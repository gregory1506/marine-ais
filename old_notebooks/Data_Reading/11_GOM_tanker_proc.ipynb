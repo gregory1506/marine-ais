{
 "cells": [
  {
   "cell_type": "code",
   "execution_count": 1,
   "id": "a91ec760-5856-4309-a89d-8f11af7fb88a",
   "metadata": {},
   "outputs": [
    {
     "name": "stdout",
     "output_type": "stream",
     "text": [
      "CPU times: user 966 ms, sys: 972 ms, total: 1.94 s\n",
      "Wall time: 1.3 s\n"
     ]
    }
   ],
   "source": [
    "%%time\n",
    "import cudf\n",
    "import cuspatial as csp\n",
    "import geopandas as gpd\n",
    "import pandas as pd\n",
    "from shapely.geometry import Polygon\n",
    "import os"
   ]
  },
  {
   "cell_type": "code",
   "execution_count": 2,
   "id": "dacb2c00-6b15-4a3d-8e9f-864653932ece",
   "metadata": {},
   "outputs": [
    {
     "name": "stdout",
     "output_type": "stream",
     "text": [
      "CPU times: user 0 ns, sys: 1.96 ms, total: 1.96 ms\n",
      "Wall time: 2.26 ms\n"
     ]
    }
   ],
   "source": [
    "%%time\n",
    "yrs = [str(x) for x in (2019,2020,2021)]\n",
    "file_names = []\n",
    "for yr in yrs:\n",
    "    file_names += [f\"../../US_MARINE/{yr}/parquets/\" + x for x in os.listdir(f\"../../US_MARINE/{yr}/parquets/\")]\n",
    "cargo_file_names = sorted([x for x in file_names if \"cargo\" in x])\n",
    "tanker_file_names = sorted([x for x in file_names if \"tanker\" in x])"
   ]
  },
  {
   "cell_type": "code",
   "execution_count": 3,
   "id": "464d19d2-afee-471a-a230-4718513c9e8f",
   "metadata": {},
   "outputs": [
    {
     "name": "stdout",
     "output_type": "stream",
     "text": [
      "<class 'geopandas.geodataframe.GeoDataFrame'>\n",
      "RangeIndex: 1 entries, 0 to 0\n",
      "Data columns (total 2 columns):\n",
      " #   Column    Non-Null Count  Dtype   \n",
      "---  ------    --------------  -----   \n",
      " 0   Region    1 non-null      object  \n",
      " 1   geometry  1 non-null      geometry\n",
      "dtypes: geometry(1), object(1)\n",
      "memory usage: 144.0+ bytes\n",
      "None\n"
     ]
    },
    {
     "data": {
      "text/plain": [
       "<AxesSubplot:>"
      ]
     },
     "execution_count": 3,
     "metadata": {},
     "output_type": "execute_result"
    },
    {
     "data": {
      "image/png": "[encoded data removed]",
      "text/plain": [
       "<Figure size 432x288 with 1 Axes>"
      ]
     },
     "metadata": {
      "needs_background": "light"
     },
     "output_type": "display_data"
    }
   ],
   "source": [
    "gom = Polygon([[-99.140625, 31.071755902820133],\n",
    "            [-98.85498046875, 25.383735254706867],\n",
    "            [-91.07666015625, 24.487148563173424],\n",
    "            [-86.33056640625, 26.43122806450644],\n",
    "            [-86.30859375, 29.668962525992505],\n",
    "            [-88.35205078124999,31.59725256170666],\n",
    "            [-95.49316406249999, 31.672083485607402],\n",
    "            [-99.140625,31.071755902820133]])\n",
    "df = pd.DataFrame([['GOM',gom]], columns=['Region','geometry'])\n",
    "df = gpd.GeoDataFrame(df, geometry='geometry', crs=4326)\n",
    "print(df.info())\n",
    "df.plot()"
   ]
  },
  {
   "cell_type": "code",
   "execution_count": 4,
   "id": "32a86272-e5c1-448f-b588-4f9aa004b891",
   "metadata": {},
   "outputs": [
    {
     "data": {
      "text/plain": [
       "([0], ['GOM'])"
      ]
     },
     "execution_count": 4,
     "metadata": {},
     "output_type": "execute_result"
    }
   ],
   "source": [
    "offsets = [0]\n",
    "poly_points_x = []\n",
    "poly_points_y = []\n",
    "idx = []\n",
    "for region in df.Region.unique():\n",
    "    poly_points_x += [x[0] for x in df[df.Region == region].geometry.__geo_interface__['features'][0]['geometry']['coordinates'][0][:-1]]\n",
    "    poly_points_y += [x[1] for x in df[df.Region == region].geometry.__geo_interface__['features'][0]['geometry']['coordinates'][0][:-1]]\n",
    "    offsets += [len(poly_points_x)]\n",
    "    idx += [region]\n",
    "offsets = offsets[:-1]\n",
    "offsets, idx\n",
    "# poly_points_y = [x[1] for x in df[df.Region == \"GOM\"].geometry.__geo_interface__['features'][0]['geometry']['coordinates'][0][:-1]]"
   ]
  },
  {
   "cell_type": "code",
   "execution_count": 5,
   "id": "d8df2384-d536-4e59-9125-35aee3d2e277",
   "metadata": {},
   "outputs": [
    {
     "name": "stdout",
     "output_type": "stream",
     "text": [
      "0 ../../US_MARINE/2019/parquets/AIS_2019_01_01_tanker_5min.parquet\n",
      "20 ../../US_MARINE/2019/parquets/AIS_2019_01_21_tanker_5min.parquet\n",
      "40 ../../US_MARINE/2019/parquets/AIS_2019_02_10_tanker_5min.parquet\n",
      "60 ../../US_MARINE/2019/parquets/AIS_2019_03_02_tanker_5min.parquet\n",
      "80 ../../US_MARINE/2019/parquets/AIS_2019_03_22_tanker_5min.parquet\n",
      "100 ../../US_MARINE/2019/parquets/AIS_2019_04_11_tanker_5min.parquet\n",
      "120 ../../US_MARINE/2019/parquets/AIS_2019_05_01_tanker_5min.parquet\n",
      "140 ../../US_MARINE/2019/parquets/AIS_2019_05_21_tanker_5min.parquet\n",
      "160 ../../US_MARINE/2019/parquets/AIS_2019_06_10_tanker_5min.parquet\n",
      "180 ../../US_MARINE/2019/parquets/AIS_2019_06_30_tanker_5min.parquet\n",
      "200 ../../US_MARINE/2019/parquets/AIS_2019_07_20_tanker_5min.parquet\n",
      "220 ../../US_MARINE/2019/parquets/AIS_2019_08_09_tanker_5min.parquet\n",
      "240 ../../US_MARINE/2019/parquets/AIS_2019_08_29_tanker_5min.parquet\n",
      "260 ../../US_MARINE/2019/parquets/AIS_2019_09_18_tanker_5min.parquet\n",
      "280 ../../US_MARINE/2019/parquets/AIS_2019_10_08_tanker_5min.parquet\n",
      "300 ../../US_MARINE/2019/parquets/AIS_2019_10_28_tanker_5min.parquet\n",
      "320 ../../US_MARINE/2019/parquets/AIS_2019_11_17_tanker_5min.parquet\n",
      "340 ../../US_MARINE/2019/parquets/AIS_2019_12_07_tanker_5min.parquet\n",
      "360 ../../US_MARINE/2019/parquets/AIS_2019_12_27_tanker_5min.parquet\n",
      "380 ../../US_MARINE/2020/parquets/AIS_2020_01_16_tanker_5min.parquet\n",
      "400 ../../US_MARINE/2020/parquets/AIS_2020_02_05_tanker_5min.parquet\n",
      "420 ../../US_MARINE/2020/parquets/AIS_2020_02_25_tanker_5min.parquet\n",
      "440 ../../US_MARINE/2020/parquets/AIS_2020_03_16_tanker_5min.parquet\n",
      "460 ../../US_MARINE/2020/parquets/AIS_2020_04_05_tanker_5min.parquet\n",
      "480 ../../US_MARINE/2020/parquets/AIS_2020_04_25_tanker_5min.parquet\n",
      "500 ../../US_MARINE/2020/parquets/AIS_2020_05_15_tanker_5min.parquet\n",
      "520 ../../US_MARINE/2020/parquets/AIS_2020_06_04_tanker_5min.parquet\n",
      "540 ../../US_MARINE/2020/parquets/AIS_2020_06_24_tanker_5min.parquet\n",
      "560 ../../US_MARINE/2020/parquets/AIS_2020_07_19_tanker_5min.parquet\n",
      "580 ../../US_MARINE/2020/parquets/AIS_2020_08_15_tanker_5min.parquet\n",
      "600 ../../US_MARINE/2020/parquets/AIS_2020_09_08_tanker_5min.parquet\n",
      "620 ../../US_MARINE/2020/parquets/AIS_2020_10_01_tanker_5min.parquet\n",
      "640 ../../US_MARINE/2020/parquets/AIS_2020_10_21_tanker_5min.parquet\n",
      "660 ../../US_MARINE/2020/parquets/AIS_2020_11_10_tanker_5min.parquet\n",
      "680 ../../US_MARINE/2020/parquets/AIS_2020_11_30_tanker_5min.parquet\n",
      "700 ../../US_MARINE/2020/parquets/AIS_2020_12_20_tanker_5min.parquet\n",
      "720 ../../US_MARINE/2021/parquets/AIS_2021_01_09_tanker_5min.parquet\n",
      "740 ../../US_MARINE/2021/parquets/AIS_2021_01_29_tanker_5min.parquet\n",
      "760 ../../US_MARINE/2021/parquets/AIS_2021_02_18_tanker_5min.parquet\n",
      "780 ../../US_MARINE/2021/parquets/AIS_2021_03_10_tanker_5min.parquet\n",
      "800 ../../US_MARINE/2021/parquets/AIS_2021_03_30_tanker_5min.parquet\n",
      "820 ../../US_MARINE/2021/parquets/AIS_2021_04_19_tanker_5min.parquet\n",
      "840 ../../US_MARINE/2021/parquets/AIS_2021_05_09_tanker_5min.parquet\n",
      "860 ../../US_MARINE/2021/parquets/AIS_2021_05_29_tanker_5min.parquet\n",
      "880 ../../US_MARINE/2021/parquets/AIS_2021_06_18_tanker_5min.parquet\n",
      "900 ../../US_MARINE/2021/parquets/AIS_2021_07_08_tanker_5min.parquet\n",
      "920 ../../US_MARINE/2021/parquets/AIS_2021_07_28_tanker_5min.parquet\n",
      "940 ../../US_MARINE/2021/parquets/AIS_2021_08_17_tanker_5min.parquet\n",
      "960 ../../US_MARINE/2021/parquets/AIS_2021_09_06_tanker_5min.parquet\n",
      "980 ../../US_MARINE/2021/parquets/AIS_2021_09_26_tanker_5min.parquet\n",
      "1000 ../../US_MARINE/2021/parquets/AIS_2021_10_16_tanker_5min.parquet\n",
      "1020 ../../US_MARINE/2021/parquets/AIS_2021_11_05_tanker_5min.parquet\n",
      "1040 ../../US_MARINE/2021/parquets/AIS_2021_11_25_tanker_5min.parquet\n",
      "1060 ../../US_MARINE/2021/parquets/AIS_2021_12_15_tanker_5min.parquet\n",
      "CPU times: user 40.2 s, sys: 17.3 s, total: 57.5 s\n",
      "Wall time: 1min 2s\n"
     ]
    },
    {
     "data": {
      "text/html": [
       "<div>\n",
       "<style scoped>\n",
       "    .dataframe tbody tr th:only-of-type {\n",
       "        vertical-align: middle;\n",
       "    }\n",
       "\n",
       "    .dataframe tbody tr th {\n",
       "        vertical-align: top;\n",
       "    }\n",
       "\n",
       "    .dataframe thead th {\n",
       "        text-align: right;\n",
       "    }\n",
       "</style>\n",
       "<table border=\"1\" class=\"dataframe\">\n",
       "  <thead>\n",
       "    <tr style=\"text-align: right;\">\n",
       "      <th></th>\n",
       "      <th>BaseDateTime</th>\n",
       "      <th>MMSI</th>\n",
       "      <th>LAT</th>\n",
       "      <th>LON</th>\n",
       "      <th>VesselName</th>\n",
       "      <th>IMO</th>\n",
       "      <th>SOG</th>\n",
       "    </tr>\n",
       "  </thead>\n",
       "  <tbody>\n",
       "    <tr>\n",
       "      <th>0</th>\n",
       "      <td>2019-01-01 00:00:00</td>\n",
       "      <td>403638000.0</td>\n",
       "      <td>28.52015</td>\n",
       "      <td>-94.34360</td>\n",
       "      <td>GHINAH</td>\n",
       "      <td>IMO9484728</td>\n",
       "      <td>0.1</td>\n",
       "    </tr>\n",
       "    <tr>\n",
       "      <th>1</th>\n",
       "      <td>2019-01-01 00:05:00</td>\n",
       "      <td>403638000.0</td>\n",
       "      <td>28.52016</td>\n",
       "      <td>-94.34354</td>\n",
       "      <td>GHINAH</td>\n",
       "      <td>IMO9484728</td>\n",
       "      <td>0.1</td>\n",
       "    </tr>\n",
       "    <tr>\n",
       "      <th>2</th>\n",
       "      <td>2019-01-01 00:10:00</td>\n",
       "      <td>403638000.0</td>\n",
       "      <td>28.52004</td>\n",
       "      <td>-94.34356</td>\n",
       "      <td>GHINAH</td>\n",
       "      <td>IMO9484728</td>\n",
       "      <td>0.0</td>\n",
       "    </tr>\n",
       "    <tr>\n",
       "      <th>3</th>\n",
       "      <td>2019-01-01 00:15:00</td>\n",
       "      <td>403638000.0</td>\n",
       "      <td>28.52007</td>\n",
       "      <td>-94.34355</td>\n",
       "      <td>GHINAH</td>\n",
       "      <td>IMO9484728</td>\n",
       "      <td>0.1</td>\n",
       "    </tr>\n",
       "    <tr>\n",
       "      <th>4</th>\n",
       "      <td>2019-01-01 00:20:00</td>\n",
       "      <td>403638000.0</td>\n",
       "      <td>28.51993</td>\n",
       "      <td>-94.34365</td>\n",
       "      <td>GHINAH</td>\n",
       "      <td>IMO9484728</td>\n",
       "      <td>0.1</td>\n",
       "    </tr>\n",
       "    <tr>\n",
       "      <th>...</th>\n",
       "      <td>...</td>\n",
       "      <td>...</td>\n",
       "      <td>...</td>\n",
       "      <td>...</td>\n",
       "      <td>...</td>\n",
       "      <td>...</td>\n",
       "      <td>...</td>\n",
       "    </tr>\n",
       "    <tr>\n",
       "      <th>38903728</th>\n",
       "      <td>2021-12-31 23:35:00</td>\n",
       "      <td>538005036.0</td>\n",
       "      <td>27.31645</td>\n",
       "      <td>-88.56486</td>\n",
       "      <td>PALANCA SINGAPORE</td>\n",
       "      <td>IMO9492361</td>\n",
       "      <td>11.9</td>\n",
       "    </tr>\n",
       "    <tr>\n",
       "      <th>38903729</th>\n",
       "      <td>2021-12-31 23:40:00</td>\n",
       "      <td>538005036.0</td>\n",
       "      <td>27.33180</td>\n",
       "      <td>-88.56925</td>\n",
       "      <td>PALANCA SINGAPORE</td>\n",
       "      <td>IMO9492361</td>\n",
       "      <td>11.9</td>\n",
       "    </tr>\n",
       "    <tr>\n",
       "      <th>38903730</th>\n",
       "      <td>2021-12-31 23:45:00</td>\n",
       "      <td>538005036.0</td>\n",
       "      <td>27.34397</td>\n",
       "      <td>-88.57778</td>\n",
       "      <td>PALANCA SINGAPORE</td>\n",
       "      <td>IMO9492361</td>\n",
       "      <td>11.9</td>\n",
       "    </tr>\n",
       "    <tr>\n",
       "      <th>38903731</th>\n",
       "      <td>2021-12-31 23:50:00</td>\n",
       "      <td>538005036.0</td>\n",
       "      <td>27.35543</td>\n",
       "      <td>-88.58380</td>\n",
       "      <td>PALANCA SINGAPORE</td>\n",
       "      <td>IMO9492361</td>\n",
       "      <td>12.0</td>\n",
       "    </tr>\n",
       "    <tr>\n",
       "      <th>38903732</th>\n",
       "      <td>2021-12-31 23:55:00</td>\n",
       "      <td>538005036.0</td>\n",
       "      <td>27.37231</td>\n",
       "      <td>-88.59234</td>\n",
       "      <td>PALANCA SINGAPORE</td>\n",
       "      <td>IMO9492361</td>\n",
       "      <td>12.0</td>\n",
       "    </tr>\n",
       "  </tbody>\n",
       "</table>\n",
       "<p>38903733 rows × 7 columns</p>\n",
       "</div>"
      ],
      "text/plain": [
       "                BaseDateTime         MMSI       LAT       LON  \\\n",
       "0        2019-01-01 00:00:00  403638000.0  28.52015 -94.34360   \n",
       "1        2019-01-01 00:05:00  403638000.0  28.52016 -94.34354   \n",
       "2        2019-01-01 00:10:00  403638000.0  28.52004 -94.34356   \n",
       "3        2019-01-01 00:15:00  403638000.0  28.52007 -94.34355   \n",
       "4        2019-01-01 00:20:00  403638000.0  28.51993 -94.34365   \n",
       "...                      ...          ...       ...       ...   \n",
       "38903728 2021-12-31 23:35:00  538005036.0  27.31645 -88.56486   \n",
       "38903729 2021-12-31 23:40:00  538005036.0  27.33180 -88.56925   \n",
       "38903730 2021-12-31 23:45:00  538005036.0  27.34397 -88.57778   \n",
       "38903731 2021-12-31 23:50:00  538005036.0  27.35543 -88.58380   \n",
       "38903732 2021-12-31 23:55:00  538005036.0  27.37231 -88.59234   \n",
       "\n",
       "                 VesselName         IMO   SOG  \n",
       "0                    GHINAH  IMO9484728   0.1  \n",
       "1                    GHINAH  IMO9484728   0.1  \n",
       "2                    GHINAH  IMO9484728   0.0  \n",
       "3                    GHINAH  IMO9484728   0.1  \n",
       "4                    GHINAH  IMO9484728   0.1  \n",
       "...                     ...         ...   ...  \n",
       "38903728  PALANCA SINGAPORE  IMO9492361  11.9  \n",
       "38903729  PALANCA SINGAPORE  IMO9492361  11.9  \n",
       "38903730  PALANCA SINGAPORE  IMO9492361  11.9  \n",
       "38903731  PALANCA SINGAPORE  IMO9492361  12.0  \n",
       "38903732  PALANCA SINGAPORE  IMO9492361  12.0  \n",
       "\n",
       "[38903733 rows x 7 columns]"
      ]
     },
     "execution_count": 5,
     "metadata": {},
     "output_type": "execute_result"
    }
   ],
   "source": [
    "%%time\n",
    "vessel_names_list = []\n",
    "list_of_gom_cdfs = []\n",
    "gomcdf = cudf.DataFrame()\n",
    "for i, f in enumerate(tanker_file_names[:]):\n",
    "    tmp = cudf.read_parquet(f)\n",
    "    t = csp.point_in_polygon(tmp.LON, tmp.LAT, cudf.Series([x for x in range(len(idx))], index=idx), offsets ,poly_points_x,poly_points_y)\n",
    "    vessels = tmp.VesselName.unique().to_arrow().tolist()\n",
    "    vessel_names_list += vessels\n",
    "    tmp_gom = tmp.loc[t[t.GOM == True].index][['BaseDateTime','MMSI','LAT','LON','VesselName','IMO','SOG']]\n",
    "    gomcdf = cudf.concat([gomcdf, tmp.loc[t[t.GOM == True].index][['BaseDateTime','MMSI','LAT','LON','VesselName','IMO','SOG']]], ignore_index=True)\n",
    "    del tmp\n",
    "    if i % 20 == 0:\n",
    "        print(i, f)\n",
    "# cargo_vessel_names = set(vessel_names_list)\n",
    "# gomcdf = cudf.concat(list_of_gom_cdfs, ignore_index=True)\n",
    "gomcdf.to_parquet(\"ALL_GOM_tanker_2019-2021.parquet\")\n",
    "gomcdf"
   ]
  },
  {
   "cell_type": "code",
   "execution_count": null,
   "id": "a64b8464-d324-4c67-92bc-f16d0cd05790",
   "metadata": {},
   "outputs": [],
   "source": []
  }
 ],
 "metadata": {
  "kernelspec": {
   "display_name": "Python 3 (ipykernel)",
   "language": "python",
   "name": "python3"
  },
  "language_info": {
   "codemirror_mode": {
    "name": "ipython",
    "version": 3
   },
   "file_extension": ".py",
   "mimetype": "text/x-python",
   "name": "python",
   "nbconvert_exporter": "python",
   "pygments_lexer": "ipython3",
   "version": "3.9.12"
  }
 },
 "nbformat": 4,
 "nbformat_minor": 5
}
