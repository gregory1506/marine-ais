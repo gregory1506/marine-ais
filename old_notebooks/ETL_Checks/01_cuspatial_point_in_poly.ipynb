{
 "cells": [
  {
   "cell_type": "code",
   "execution_count": null,
   "id": "a91ec760-5856-4309-a89d-8f11af7fb88a",
   "metadata": {},
   "outputs": [],
   "source": [
    "import cudf\n",
    "import cuspatial as csp\n",
    "import geopandas as gpd\n",
    "import pandas as pd\n",
    "from shapely.geometry import Polygon\n",
    "import os"
   ]
  },
  {
   "cell_type": "code",
   "execution_count": null,
   "id": "dacb2c00-6b15-4a3d-8e9f-864653932ece",
   "metadata": {},
   "outputs": [],
   "source": [
    "yrs = [str(x) for x in (2019,2020,2021)]\n",
    "file_names = []\n",
    "for yr in yrs:\n",
    "    file_names += [f\"../../US_MARINE/{yr}/parquets/\" + x for x in os.listdir(f\"../../US_MARINE/{yr}/parquets/\")]\n",
    "cargo_file_names = sorted([x for x in file_names if \"cargo\" in x])\n",
    "tanker_field_names = sorted([x for x in file_names if \"tanker\" in x])"
   ]
  },
  {
   "cell_type": "code",
   "execution_count": null,
   "id": "464d19d2-afee-471a-a230-4718513c9e8f",
   "metadata": {},
   "outputs": [],
   "source": [
    "los_angeles = Polygon([[-121.88232421875,34.9895035675793],\n",
    "            [-121.97021484374999,31.316101383495624],\n",
    "            [-117.5042724609375, 31.287939892641734],\n",
    "            [-116.32873535156249,33.224903086263964],\n",
    "            [-119.02587890624999,34.95349314197422],\n",
    "            [-121.88232421875,34.9895035675793]])\n",
    "boston = Polygon([[-70.86456298828124,42.71473218539458],\n",
    "            [-71.20513916015625,42.48627657532139],\n",
    "            [-71.21063232421875,42.116561350389006],\n",
    "            [-70.938720703125,41.14970617453726],\n",
    "            [-69.70275878906249,41.15384235711447],\n",
    "            [-69.0435791015625,41.96357478222518],\n",
    "            [-69.6697998046875,42.79540065303723],\n",
    "            [-70.86456298828124,42.71473218539458]])\n",
    "gom = Polygon([[-99.140625, 31.071755902820133],\n",
    "            [-98.85498046875, 25.383735254706867],\n",
    "            [-91.07666015625, 24.487148563173424],\n",
    "            [-86.33056640625, 26.43122806450644],\n",
    "            [-86.30859375, 29.668962525992505],\n",
    "            [-88.35205078124999,31.59725256170666],\n",
    "            [-95.49316406249999, 31.672083485607402],\n",
    "            [-99.140625,31.071755902820133]])\n",
    "df = pd.DataFrame([[\"LA\",los_angeles],['GOM',gom],['boston',boston]], columns=['Region','geometry'])\n",
    "df = gpd.GeoDataFrame(df, geometry='geometry', crs=4326)\n",
    "print(df.info())\n",
    "df.plot()"
   ]
  },
  {
   "cell_type": "code",
   "execution_count": null,
   "id": "32a86272-e5c1-448f-b588-4f9aa004b891",
   "metadata": {},
   "outputs": [],
   "source": [
    "offsets = [0]\n",
    "poly_points_x = []\n",
    "poly_points_y = []\n",
    "idx = []\n",
    "for region in df.Region.unique():\n",
    "    poly_points_x += [x[0] for x in df[df.Region == region].geometry.__geo_interface__['features'][0]['geometry']['coordinates'][0][:-1]]\n",
    "    poly_points_y += [x[1] for x in df[df.Region == region].geometry.__geo_interface__['features'][0]['geometry']['coordinates'][0][:-1]]\n",
    "    offsets += [len(poly_points_x)]\n",
    "    idx += [region]\n",
    "offsets = offsets[:-1]\n",
    "offsets, idx\n",
    "# poly_points_y = [x[1] for x in df[df.Region == \"GOM\"].geometry.__geo_interface__['features'][0]['geometry']['coordinates'][0][:-1]]"
   ]
  },
  {
   "cell_type": "code",
   "execution_count": null,
   "id": "5e919a2d-20a5-42fb-ad3f-e05b5e3172ba",
   "metadata": {},
   "outputs": [],
   "source": [
    "cudf.Series([x for x in range(len(idx))], index=idx)"
   ]
  },
  {
   "cell_type": "code",
   "execution_count": null,
   "id": "d8df2384-d536-4e59-9125-35aee3d2e277",
   "metadata": {},
   "outputs": [],
   "source": [
    "%%time\n",
    "vessel_names_list = []\n",
    "list_of_gom_dfs = []\n",
    "list_of_boston_dfs = []\n",
    "list_of_LA_dfs = []\n",
    "for i, f in enumerate(cargo_file_names[:]):\n",
    "    tmp = cudf.read_parquet(f)\n",
    "    t = csp.point_in_polygon(tmp.LON, tmp.LAT, cudf.Series([x for x in range(len(idx))], index=idx), offsets ,poly_points_x,poly_points_y)\n",
    "    vessels = tmp.VesselName.unique().to_arrow().tolist()\n",
    "    vessel_names_list += vessels\n",
    "    tmp_gom = tmp.loc[t[t.GOM == True].index][['BaseDateTime','MMSI','LAT','LON','VesselName','IMO','SOG']].copy()\n",
    "    tmp_la = tmp.loc[t[t.LA == True].index][['BaseDateTime','MMSI','LAT','LON','VesselName','IMO','SOG']].copy()\n",
    "    tmp_boston = tmp.loc[t[t.boston == True].index][['BaseDateTime','MMSI','LAT','LON','VesselName','IMO','SOG']].copy()\n",
    "    list_of_gom_dfs.append(tmp_gom)\n",
    "    list_of_LA_dfs.append(tmp_la)\n",
    "    list_of_boston_dfs.append(tmp_boston)\n",
    "    if i % 20 == 0:\n",
    "        print(i, f)\n",
    "cargo_vessel_names = set(vessel_names_list)"
   ]
  },
  {
   "cell_type": "code",
   "execution_count": null,
   "id": "bdf3a245-0d36-44f1-a01e-f5a8766ee19d",
   "metadata": {},
   "outputs": [],
   "source": [
    "%time\n",
    "gomdf = cudf.concat(list_of_gom_dfs, ignore_index=True)\n",
    "gomdf"
   ]
  },
  {
   "cell_type": "code",
   "execution_count": null,
   "id": "9c873ab6-127b-4892-b2e7-40ab065e6df2",
   "metadata": {},
   "outputs": [],
   "source": [
    "%%time\n",
    "ladf = cudf.concat(list_of_LA_dfs, ignore_index=True)\n",
    "ladf"
   ]
  },
  {
   "cell_type": "code",
   "execution_count": null,
   "id": "b28a024a-8ab2-4f10-83cc-b334b3ccb2fc",
   "metadata": {},
   "outputs": [],
   "source": [
    "%%time\n",
    "bosdf = cudf.concat(list_of_boston_dfs, ignore_index=True)\n",
    "bosdf"
   ]
  },
  {
   "cell_type": "code",
   "execution_count": null,
   "id": "930bbb50-90e8-4599-bf11-b7b26b6f4084",
   "metadata": {},
   "outputs": [],
   "source": [
    "%%time\n",
    "objects, traj_offsets = csp.derive_trajectories(gomdf.MMSI, gomdf.LON, gomdf.LAT, gomdf.BaseDateTime)\n",
    "objects"
   ]
  },
  {
   "cell_type": "code",
   "execution_count": null,
   "id": "780b9411-3453-4c7d-8db3-3714b515f96c",
   "metadata": {},
   "outputs": [],
   "source": [
    "traj_offsets"
   ]
  },
  {
   "cell_type": "code",
   "execution_count": null,
   "id": "a5c49765-019f-412a-98bc-2bbd77ca5e02",
   "metadata": {},
   "outputs": [],
   "source": [
    "gomdf[gomdf.MMSI == 205087000.0]"
   ]
  },
  {
   "cell_type": "code",
   "execution_count": null,
   "id": "6cf90696-7aa7-4d5b-8138-978942521a7e",
   "metadata": {},
   "outputs": [],
   "source": []
  }
 ],
 "metadata": {
  "kernelspec": {
   "display_name": "Python 3 (ipykernel)",
   "language": "python",
   "name": "python3"
  },
  "language_info": {
   "codemirror_mode": {
    "name": "ipython",
    "version": 3
   },
   "file_extension": ".py",
   "mimetype": "text/x-python",
   "name": "python",
   "nbconvert_exporter": "python",
   "pygments_lexer": "ipython3",
   "version": "3.9.12"
  }
 },
 "nbformat": 4,
 "nbformat_minor": 5
}
