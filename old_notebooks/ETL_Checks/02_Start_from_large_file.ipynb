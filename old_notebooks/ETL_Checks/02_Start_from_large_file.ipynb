{
 "cells": [
  {
   "cell_type": "code",
   "execution_count": null,
   "id": "aedd19e0-322d-4b10-b524-808873857f66",
   "metadata": {},
   "outputs": [],
   "source": [
    "import cudf\n",
    "import cuspatial as csp\n",
    "import geopandas as gpd\n",
    "import pandas as pd\n",
    "from shapely.geometry import Polygon\n",
    "import os"
   ]
  },
  {
   "cell_type": "code",
   "execution_count": null,
   "id": "a4331fba-8956-4125-a694-94684c90b91b",
   "metadata": {},
   "outputs": [],
   "source": [
    "los_angeles = Polygon([[-121.88232421875,34.9895035675793],\n",
    "            [-121.97021484374999,31.316101383495624],\n",
    "            [-117.5042724609375, 31.287939892641734],\n",
    "            [-116.32873535156249,33.224903086263964],\n",
    "            [-119.02587890624999,34.95349314197422],\n",
    "            [-121.88232421875,34.9895035675793]])\n",
    "boston = Polygon([[-70.86456298828124,42.71473218539458],\n",
    "            [-71.20513916015625,42.48627657532139],\n",
    "            [-71.21063232421875,42.116561350389006],\n",
    "            [-70.938720703125,41.14970617453726],\n",
    "            [-69.70275878906249,41.15384235711447],\n",
    "            [-69.0435791015625,41.96357478222518],\n",
    "            [-69.6697998046875,42.79540065303723],\n",
    "            [-70.86456298828124,42.71473218539458]])\n",
    "gom = Polygon([[-99.140625, 31.071755902820133],\n",
    "            [-98.85498046875, 25.383735254706867],\n",
    "            [-91.07666015625, 24.487148563173424],\n",
    "            [-86.33056640625, 26.43122806450644],\n",
    "            [-86.30859375, 29.668962525992505],\n",
    "            [-88.35205078124999,31.59725256170666],\n",
    "            [-95.49316406249999, 31.672083485607402],\n",
    "            [-99.140625,31.071755902820133]])\n",
    "df = pd.DataFrame([[\"LA\",los_angeles],['GOM',gom],['boston',boston]], columns=['Region','geometry'])\n",
    "df = gpd.GeoDataFrame(df, geometry='geometry', crs=4326)\n",
    "print(df.info())\n",
    "df.plot()"
   ]
  },
  {
   "cell_type": "code",
   "execution_count": null,
   "id": "912df10e-3d1a-4a7c-af87-9701c3800b9f",
   "metadata": {},
   "outputs": [],
   "source": [
    "t21 = cudf.read_parquet(\"../../US_MARINE/ALL_2021_tanker.parquet\")[['BaseDateTime','MMSI','LAT','LON','VesselName','IMO','SOG']]\n",
    "t20 = cudf.read_parquet(\"../../US_MARINE/ALL_2020_tanker.parquet\")[['BaseDateTime','MMSI','LAT','LON','VesselName','IMO','SOG']]\n",
    "t19 = cudf.read_parquet(\"../../US_MARINE/ALL_2019_tanker.parquet\")[['BaseDateTime','MMSI','LAT','LON','VesselName','IMO','SOG']]\n",
    "tanker = cudf.concat([t19,t20,t21], ignore_index=True)\n",
    "tanker"
   ]
  },
  {
   "cell_type": "code",
   "execution_count": null,
   "id": "217d9681-898d-4aac-9792-a4af6386f5ad",
   "metadata": {},
   "outputs": [],
   "source": [
    "tanker.to_parquet(\"../../US_MARINE/ALL_tanker_2019-2021.parquet\")"
   ]
  },
  {
   "cell_type": "code",
   "execution_count": null,
   "id": "ba7d4a0b-acdf-43e2-83f5-18abd2af2810",
   "metadata": {},
   "outputs": [],
   "source": []
  }
 ],
 "metadata": {
  "kernelspec": {
   "display_name": "Python 3 (ipykernel)",
   "language": "python",
   "name": "python3"
  },
  "language_info": {
   "codemirror_mode": {
    "name": "ipython",
    "version": 3
   },
   "file_extension": ".py",
   "mimetype": "text/x-python",
   "name": "python",
   "nbconvert_exporter": "python",
   "pygments_lexer": "ipython3",
   "version": "3.9.12"
  }
 },
 "nbformat": 4,
 "nbformat_minor": 5
}
